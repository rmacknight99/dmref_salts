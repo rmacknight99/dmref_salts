{
 "cells": [
  {
   "cell_type": "code",
   "execution_count": null,
   "metadata": {},
   "outputs": [],
   "source": [
    "from utils import *"
   ]
  },
  {
   "cell_type": "code",
   "execution_count": null,
   "metadata": {},
   "outputs": [],
   "source": [
    "conf_dict_with = {}\n",
    "desc_dict_with = {}\n",
    "\n",
    "conf_dict_without = {}\n",
    "desc_dict_without = {}\n",
    "\n",
    "total_with, total_without = 0, 0\n",
    "\n",
    "for i in list(range(58)):\n",
    "    print(f\"----- Salt #{i} -----\")\n",
    "\n",
    "    with_ce, without_ce, best_ce = make_best_ensemble(i)\n",
    "    n_atoms = with_ce.elements.shape[0]\n",
    "\n",
    "    if with_ce.n_conformers > 100 or without_ce.n_conformers > 100:\n",
    "        rmsd_thresh = 1.0\n",
    "        energy_thresh = 1.5\n",
    "    else:\n",
    "        rmsd_thresh = 0.5\n",
    "        energy_thresh = 3.0\n",
    "    \n",
    "    with_ce = trim_conformers(with_ce, rmsd_thresh=rmsd_thresh, energy_thresh=energy_thresh)\n",
    "    conf_dict_with[i] = (with_ce, with_ce.n_conformers)\n",
    "    total_with += with_ce.n_conformers\n",
    "\n",
    "    without_ce = trim_conformers(without_ce, rmsd_thresh=rmsd_thresh, energy_thresh=energy_thresh)\n",
    "    conf_dict_without[i] = (without_ce, without_ce.n_conformers)\n",
    "    total_without += without_ce.n_conformers\n",
    "\n",
    "    print(f\"   Atoms: {n_atoms}, rmsd: {rmsd_thresh}, energy: {energy_thresh}, with: {with_ce.n_conformers}, without: {without_ce.n_conformers}\")\n",
    "\n",
    "    dump_conformers(with_ce, i, withh=True)\n",
    "    dump_conformers(without_ce, i, withh=False)\n",
    "\n",
    "    gen_hess(i, 64, withh=True)\n",
    "    gen_hess(i, 64, withh=False)\n",
    "\n",
    "    with_bw = with_ce.boltzmann_weights().T\n",
    "    without_bw = without_ce.boltzmann_weights().T\n",
    "\n",
    "    with_ensemble_desc = get_ensemble_descriptors(i, withh=True, dispersion=True, SASA=True, XTB=False, LFCs=None)\n",
    "    without_ensemble_desc = get_ensemble_descriptors(i, withh=False, dispersion=True, SASA=True, XTB=False, LFCs=None)\n",
    "    n_conformers, n_descriptors = len(list(with_ensemble_desc)), len(list(with_ensemble_desc[0].values()))\n",
    "\n",
    "    bw_desc_with = boltz_weight_desc(with_ensemble_desc, with_bw)\n",
    "    bw_desc_without = boltz_weight_desc(without_ensemble_desc, without_bw)\n",
    "    \n",
    "    desc_dict_with[i] = bw_desc_with\n",
    "    desc_dict_without[i] = bw_desc_without\n",
    "\n",
    "with_df = pd.DataFrame.from_dict(desc_dict_with, orient=\"index\").round(2)\n",
    "without_df = pd.DataFrame.from_dict(desc_dict_without, orient=\"index\").round(2)\n",
    "\n",
    "with_df.to_csv(\"descriptors_with_chlorine.csv\", index=False)\n",
    "without_df.to_csv(\"descriptors_without_chlorine.csv\", index=False)"
   ]
  },
  {
   "cell_type": "code",
   "execution_count": null,
   "metadata": {},
   "outputs": [],
   "source": [
    "with_df"
   ]
  },
  {
   "cell_type": "code",
   "execution_count": null,
   "metadata": {},
   "outputs": [],
   "source": []
  }
 ],
 "metadata": {
  "kernelspec": {
   "display_name": "comp_chem",
   "language": "python",
   "name": "python3"
  },
  "language_info": {
   "codemirror_mode": {
    "name": "ipython",
    "version": 3
   },
   "file_extension": ".py",
   "mimetype": "text/x-python",
   "name": "python",
   "nbconvert_exporter": "python",
   "pygments_lexer": "ipython3",
   "version": "3.8.16"
  },
  "orig_nbformat": 4,
  "vscode": {
   "interpreter": {
    "hash": "61a12e81eb4c68ab08522a3eb654ffc9f08a8ccae07eb5a3d4bee8ad1c592d3d"
   }
  }
 },
 "nbformat": 4,
 "nbformat_minor": 2
}
