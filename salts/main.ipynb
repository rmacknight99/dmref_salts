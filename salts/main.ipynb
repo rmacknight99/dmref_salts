{
 "cells": [
  {
   "cell_type": "code",
   "execution_count": 1,
   "metadata": {},
   "outputs": [],
   "source": [
    "from utils import *\n",
    "import pandas as pd\n",
    "from sklearn.preprocessing import StandardScaler\n",
    "from sklearn.decomposition import PCA\n",
    "import matplotlib.pyplot as plt\n",
    "import rdkit"
   ]
  },
  {
   "cell_type": "code",
   "execution_count": 2,
   "metadata": {},
   "outputs": [
    {
     "name": "stdout",
     "output_type": "stream",
     "text": [
      "-----On salt #0-----\n",
      "OCCC[NH3+].[Cl-]\n",
      "-----On salt #1-----\n",
      "[NH3+]C/C=C/C1=CC=CC=C1.[Cl-]\n",
      "-----On salt #2-----\n",
      "[NH3+]C1=CC=CC=C1.[Cl-]\n",
      "-----On salt #3-----\n",
      "[NH3+]C1CC1.[Cl-]\n",
      "-----On salt #4-----\n",
      "[NH3+]C1CCC1.[Cl-]\n"
     ]
    },
    {
     "name": "stderr",
     "output_type": "stream",
     "text": [
      "1 molecule converted\n",
      "1 molecule converted\n",
      "1 molecule converted\n",
      "1 molecule converted\n",
      "1 molecule converted\n",
      "1 molecule converted\n",
      "1 molecule converted\n",
      "1 molecule converted\n",
      "1 molecule converted\n",
      "1 molecule converted\n",
      "1 molecule converted\n"
     ]
    },
    {
     "name": "stdout",
     "output_type": "stream",
     "text": [
      "-----On salt #5-----\n",
      "[NH3+]C1CCCC1.[Cl-]\n",
      "-----On salt #6-----\n",
      "[NH3+]C1CCCCC1.[Cl-]\n",
      "-----On salt #7-----\n",
      "[NH3+]CC(C)C.[Cl-]\n",
      "-----On salt #8-----\n",
      "[NH3+]CC(C=C1)=CC2=C1C=CC=C2.[Cl-]\n",
      "-----On salt #9-----\n",
      "[NH3+]CC.[Cl-]\n",
      "-----On salt #10-----\n",
      "[NH3+]CC1=CC=C(C=C)C=C1.[Cl-]\n"
     ]
    },
    {
     "name": "stderr",
     "output_type": "stream",
     "text": [
      "1 molecule converted\n",
      "1 molecule converted\n",
      "1 molecule converted\n",
      "1 molecule converted\n",
      "1 molecule converted\n",
      "1 molecule converted\n",
      "1 molecule converted\n",
      "1 molecule converted\n",
      "1 molecule converted\n",
      "1 molecule converted\n",
      "1 molecule converted\n",
      "1 molecule converted\n"
     ]
    },
    {
     "name": "stdout",
     "output_type": "stream",
     "text": [
      "-----On salt #11-----\n",
      "[NH3+]CC1=CC=CC=C1.[Cl-]\n",
      "-----On salt #12-----\n",
      "[NH3+]CC1=CC=CS1.[Cl-]\n",
      "-----On salt #13-----\n",
      "[NH3+]CC1CCC(C(O)=O)CC1.[Cl-]\n",
      "-----On salt #14-----\n",
      "[NH3+]CC1CCCCC1.[Cl-]\n",
      "-----On salt #15-----\n",
      "[NH3+]CCC#C.[Cl-]\n",
      "-----On salt #16-----\n",
      "[NH3+]CCC#N.[Cl-]\n",
      "-----On salt #17-----\n",
      "[NH3+]CCC(C=C1)=CC=C1/N=N/C2=CC=CC=C2.[Cl-]\n"
     ]
    },
    {
     "name": "stderr",
     "output_type": "stream",
     "text": [
      "1 molecule converted\n",
      "1 molecule converted\n",
      "1 molecule converted\n",
      "1 molecule converted\n",
      "1 molecule converted\n",
      "1 molecule converted\n",
      "1 molecule converted\n",
      "1 molecule converted\n",
      "1 molecule converted\n",
      "1 molecule converted\n",
      "1 molecule converted\n",
      "1 molecule converted\n",
      "1 molecule converted\n"
     ]
    },
    {
     "name": "stdout",
     "output_type": "stream",
     "text": [
      "-----On salt #18-----\n",
      "[NH3+]CCC.[Cl-]\n",
      "-----On salt #19-----\n",
      "[NH3+]CCC1=C(F)C(F)=C(F)C(F)=C1F.[Cl-]\n",
      "-----On salt #20-----\n",
      "[NH3+]CCC1=CC2=CC=CC=C2C=C1.[Cl-]\n",
      "-----On salt #21-----\n",
      "[NH3+]CCC1=CC=C(/C=C/C2=CC(F)=CC=C2)C=C1.[Cl-]\n",
      "-----On salt #22-----\n",
      "[NH3+]CCC1=CC=C(/C=C/C2=CC=CC=C2)C=C1.[Cl-]\n",
      "-----On salt #23-----\n",
      "[NH3+]CCC1=CC=C(Br)C=C1.[Cl-]\n"
     ]
    },
    {
     "name": "stderr",
     "output_type": "stream",
     "text": [
      "1 molecule converted\n",
      "1 molecule converted\n",
      "1 molecule converted\n",
      "1 molecule converted\n",
      "1 molecule converted\n",
      "1 molecule converted\n",
      "1 molecule converted\n",
      "1 molecule converted\n",
      "1 molecule converted\n",
      "1 molecule converted\n",
      "1 molecule converted\n",
      "1 molecule converted\n"
     ]
    },
    {
     "name": "stdout",
     "output_type": "stream",
     "text": [
      "-----On salt #24-----\n",
      "[NH3+]CCC1=CC=C(C2=CC(C)=C(C3=C(C#N)C(C#N)=C(C4=C(C)C=CS4)S3)S2)S1.[Cl-]\n",
      "-----On salt #25-----\n",
      "[NH3+]CCC1=CC=C(C2=CC(C)=C(C3=CC=C(C4=C(C)C=CS4)C5=NSN=C35)S2)S1.[Cl-]\n",
      "-----On salt #26-----\n",
      "[NH3+]CCC1=CC=C(C2=CC(C)=C(C3=CC=C(C4=C(C)C=CS4)S3)S2)S1.[Cl-]\n",
      "-----On salt #27-----\n",
      "[NH3+]CCC1=CC=C(C2=CC=C(C3=CC=C(C4=CC=CS4)S3)S2)S1.[Cl-]\n",
      "-----On salt #28-----\n",
      "[NH3+]CCC1=CC=C(C2=CC=CS2)S1.[Cl-]\n",
      "-----On salt #29-----\n",
      "[NH3+]CCC1=CC=C(Cl)C=C1.[Cl-]\n"
     ]
    },
    {
     "name": "stderr",
     "output_type": "stream",
     "text": [
      "1 molecule converted\n",
      "1 molecule converted\n",
      "1 molecule converted\n",
      "1 molecule converted\n",
      "1 molecule converted\n",
      "1 molecule converted\n",
      "1 molecule converted\n",
      "1 molecule converted\n",
      "1 molecule converted\n",
      "1 molecule converted\n",
      "1 molecule converted\n",
      "1 molecule converted\n"
     ]
    },
    {
     "name": "stdout",
     "output_type": "stream",
     "text": [
      "-----On salt #30-----\n",
      "[NH3+]CCC1=CC=C(F)C=C1.[Cl-]\n",
      "-----On salt #31-----\n",
      "[NH3+]CCC1=CC=C(OC)C=C1.[Cl-]\n",
      "-----On salt #32-----\n",
      "[NH3+]CCC1=CC=CC=C1.[Cl-]\n",
      "-----On salt #33-----\n",
      "[NH3+]CCC1=CC=CS1.[Cl-]\n",
      "-----On salt #34-----\n",
      "[NH3+]CCC1=CCCCC1.[Cl-]\n",
      "-----On salt #35-----\n",
      "[NH3+]CCC1CCCCC1.[Cl-]\n",
      "-----On salt #36-----\n",
      "[NH3+]CCC=C.[Cl-]\n"
     ]
    },
    {
     "name": "stderr",
     "output_type": "stream",
     "text": [
      "1 molecule converted\n",
      "1 molecule converted\n",
      "1 molecule converted\n",
      "1 molecule converted\n",
      "1 molecule converted\n",
      "1 molecule converted\n",
      "1 molecule converted\n",
      "1 molecule converted\n",
      "1 molecule converted\n",
      "1 molecule converted\n",
      "1 molecule converted\n",
      "1 molecule converted\n",
      "1 molecule converted\n",
      "1 molecule converted\n",
      "1 molecule converted\n",
      "1 molecule converted\n",
      "1 molecule converted\n",
      "1 molecule converted\n",
      "1 molecule converted\n",
      "1 molecule converted\n",
      "1 molecule converted\n",
      "1 molecule converted\n",
      "1 molecule converted\n",
      "1 molecule converted\n",
      "1 molecule converted\n",
      "1 molecule converted\n"
     ]
    },
    {
     "name": "stdout",
     "output_type": "stream",
     "text": [
      "-----On salt #37-----\n",
      "[NH3+]CCCC(O)=O.[Cl-]\n",
      "-----On salt #38-----\n",
      "[NH3+]CCCC.[Cl-]\n",
      "-----On salt #39-----\n",
      "[NH3+]CCCC1=CC=CC=C1.[Cl-]\n",
      "-----On salt #40-----\n",
      "[NH3+]CCCCBr.[Cl-]\n",
      "-----On salt #41-----\n",
      "[NH3+]CCCCC(O)=O.[Cl-]\n",
      "-----On salt #42-----\n",
      "[NH3+]CCCCC.[Cl-]\n",
      "-----On salt #43-----\n",
      "[NH3+]CCCCCC.[Cl-]\n",
      "-----On salt #44-----\n",
      "[NH3+]CCCCCCCC.[Cl-]\n",
      "-----On salt #45-----\n",
      "[NH3+]CCCCCCCCCCCC.[Cl-]\n",
      "-----Generating Initial XYZ Structure for [NH3+]CCCCCCCCCCCC.[Cl-]-----\n",
      "\n"
     ]
    },
    {
     "name": "stderr",
     "output_type": "stream",
     "text": [
      "1 molecule converted\n",
      "1 molecule converted\n",
      "1 molecule converted\n",
      "1 molecule converted\n"
     ]
    },
    {
     "name": "stdout",
     "output_type": "stream",
     "text": [
      "-----Optimizing Initial XYZ Structure with xTB-----\n",
      "\tSMILES: [NH3+]CCCCCCCCCCCC.[Cl-]\n",
      "\tCHARGE: 0\n",
      "\tUHF: 0\n",
      "\n"
     ]
    },
    {
     "name": "stderr",
     "output_type": "stream",
     "text": [
      "1 molecule converted\n"
     ]
    },
    {
     "name": "stdout",
     "output_type": "stream",
     "text": [
      "-----CREST Conformer Generation-----\n",
      "\n"
     ]
    },
    {
     "name": "stderr",
     "output_type": "stream",
     "text": [
      "normal termination of xtb\n",
      "Note: The following floating-point exceptions are signalling: IEEE_UNDERFLOW_FLAG IEEE_DENORMAL\n"
     ]
    },
    {
     "name": "stdout",
     "output_type": "stream",
     "text": [
      "-----Generating Initial XYZ Structure for [NH3+]CCCCCCCCCCCC-----\n",
      "\n",
      "-----Optimizing Initial XYZ Structure with xTB-----\n",
      "\tSMILES: [NH3+]CCCCCCCCCCCC\n",
      "\tCHARGE: 1\n",
      "\tUHF: 0\n",
      "\n"
     ]
    },
    {
     "name": "stderr",
     "output_type": "stream",
     "text": [
      "1 molecule converted\n"
     ]
    },
    {
     "name": "stdout",
     "output_type": "stream",
     "text": [
      "-----CREST Conformer Generation-----\n",
      "\n"
     ]
    },
    {
     "name": "stderr",
     "output_type": "stream",
     "text": [
      "normal termination of xtb\n",
      "Note: The following floating-point exceptions are signalling: IEEE_UNDERFLOW_FLAG IEEE_DENORMAL\n"
     ]
    },
    {
     "name": "stdout",
     "output_type": "stream",
     "text": [
      "-----On salt #46-----\n",
      "[NH3+]CCCCI.[Cl-]\n",
      "-----Generating Initial XYZ Structure for [NH3+]CCCCI.[Cl-]-----\n",
      "\n",
      "-----Optimizing Initial XYZ Structure with xTB-----\n",
      "\tSMILES: [NH3+]CCCCI.[Cl-]\n",
      "\tCHARGE: 0\n",
      "\tUHF: 0\n",
      "\n"
     ]
    },
    {
     "name": "stderr",
     "output_type": "stream",
     "text": [
      "1 molecule converted\n"
     ]
    },
    {
     "name": "stdout",
     "output_type": "stream",
     "text": [
      "-----CREST Conformer Generation-----\n",
      "\n"
     ]
    },
    {
     "name": "stderr",
     "output_type": "stream",
     "text": [
      "normal termination of xtb\n",
      "Note: The following floating-point exceptions are signalling: IEEE_UNDERFLOW_FLAG IEEE_DENORMAL\n"
     ]
    },
    {
     "name": "stdout",
     "output_type": "stream",
     "text": [
      "-----Generating Initial XYZ Structure for [NH3+]CCCCI-----\n",
      "\n",
      "-----Optimizing Initial XYZ Structure with xTB-----\n",
      "\tSMILES: [NH3+]CCCCI\n",
      "\tCHARGE: 1\n",
      "\tUHF: 0\n",
      "\n",
      "-----CREST Conformer Generation-----\n",
      "\n"
     ]
    },
    {
     "name": "stderr",
     "output_type": "stream",
     "text": [
      "1 molecule converted\n",
      "normal termination of xtb\n",
      "Note: The following floating-point exceptions are signalling: IEEE_DENORMAL\n"
     ]
    },
    {
     "name": "stdout",
     "output_type": "stream",
     "text": [
      "-----On salt #47-----\n",
      "[NH3+]CCCCN(C1C2C=CC=C1)C3=C2C=CC=C3.[Cl-]\n",
      "-----Generating Initial XYZ Structure for [NH3+]CCCCN(C1C2C=CC=C1)C3=C2C=CC=C3.[Cl-]-----\n",
      "\n",
      "-----Optimizing Initial XYZ Structure with xTB-----\n",
      "\tSMILES: [NH3+]CCCCN(C1C2C=CC=C1)C3=C2C=CC=C3.[Cl-]\n",
      "\tCHARGE: 0\n",
      "\tUHF: 0\n",
      "\n"
     ]
    },
    {
     "name": "stderr",
     "output_type": "stream",
     "text": [
      "1 molecule converted\n"
     ]
    },
    {
     "name": "stdout",
     "output_type": "stream",
     "text": [
      "-----CREST Conformer Generation-----\n",
      "\n"
     ]
    },
    {
     "name": "stderr",
     "output_type": "stream",
     "text": [
      "normal termination of xtb\n",
      "Note: The following floating-point exceptions are signalling: IEEE_UNDERFLOW_FLAG IEEE_DENORMAL\n"
     ]
    },
    {
     "name": "stdout",
     "output_type": "stream",
     "text": [
      "-----Generating Initial XYZ Structure for [NH3+]CCCCN(C1C2C=CC=C1)C3=C2C=CC=C3-----\n",
      "\n",
      "-----Optimizing Initial XYZ Structure with xTB-----\n",
      "\tSMILES: [NH3+]CCCCN(C1C2C=CC=C1)C3=C2C=CC=C3\n",
      "\tCHARGE: 1\n",
      "\tUHF: 0\n",
      "\n"
     ]
    },
    {
     "name": "stderr",
     "output_type": "stream",
     "text": [
      "1 molecule converted\n"
     ]
    },
    {
     "name": "stdout",
     "output_type": "stream",
     "text": [
      "-----CREST Conformer Generation-----\n",
      "\n"
     ]
    },
    {
     "name": "stderr",
     "output_type": "stream",
     "text": [
      "normal termination of xtb\n",
      "Note: The following floating-point exceptions are signalling: IEEE_UNDERFLOW_FLAG IEEE_DENORMAL\n"
     ]
    },
    {
     "name": "stdout",
     "output_type": "stream",
     "text": [
      "-----On salt #48-----\n",
      "[NH3+]CCCCO.[Cl-]\n",
      "-----Generating Initial XYZ Structure for [NH3+]CCCCO.[Cl-]-----\n",
      "\n",
      "-----Optimizing Initial XYZ Structure with xTB-----\n",
      "\tSMILES: [NH3+]CCCCO.[Cl-]\n",
      "\tCHARGE: 0\n",
      "\tUHF: 0\n",
      "\n"
     ]
    },
    {
     "name": "stderr",
     "output_type": "stream",
     "text": [
      "1 molecule converted\n"
     ]
    },
    {
     "name": "stdout",
     "output_type": "stream",
     "text": [
      "-----CREST Conformer Generation-----\n",
      "\n"
     ]
    },
    {
     "name": "stderr",
     "output_type": "stream",
     "text": [
      "normal termination of xtb\n",
      "Note: The following floating-point exceptions are signalling: IEEE_UNDERFLOW_FLAG IEEE_DENORMAL\n"
     ]
    },
    {
     "name": "stdout",
     "output_type": "stream",
     "text": [
      "-----Generating Initial XYZ Structure for [NH3+]CCCCO-----\n",
      "\n",
      "-----Optimizing Initial XYZ Structure with xTB-----\n",
      "\tSMILES: [NH3+]CCCCO\n",
      "\tCHARGE: 1\n",
      "\tUHF: 0\n",
      "\n",
      "-----CREST Conformer Generation-----\n",
      "\n"
     ]
    },
    {
     "name": "stderr",
     "output_type": "stream",
     "text": [
      "1 molecule converted\n",
      "normal termination of xtb\n",
      "Note: The following floating-point exceptions are signalling: IEEE_DENORMAL\n"
     ]
    },
    {
     "name": "stdout",
     "output_type": "stream",
     "text": [
      "-----On salt #49-----\n",
      "[NH3+]CCF.[Cl-]\n",
      "-----Generating Initial XYZ Structure for [NH3+]CCF.[Cl-]-----\n",
      "\n",
      "-----Optimizing Initial XYZ Structure with xTB-----\n",
      "\tSMILES: [NH3+]CCF.[Cl-]\n",
      "\tCHARGE: 0\n",
      "\tUHF: 0\n",
      "\n",
      "-----CREST Conformer Generation-----\n",
      "\n"
     ]
    },
    {
     "name": "stderr",
     "output_type": "stream",
     "text": [
      "1 molecule converted\n",
      "normal termination of xtb\n",
      "Note: The following floating-point exceptions are signalling: IEEE_UNDERFLOW_FLAG IEEE_DENORMAL\n"
     ]
    },
    {
     "name": "stdout",
     "output_type": "stream",
     "text": [
      "-----Generating Initial XYZ Structure for [NH3+]CCF-----\n",
      "\n",
      "-----Optimizing Initial XYZ Structure with xTB-----\n",
      "\tSMILES: [NH3+]CCF\n",
      "\tCHARGE: 1\n",
      "\tUHF: 0\n",
      "\n",
      "-----CREST Conformer Generation-----\n",
      "\n"
     ]
    },
    {
     "name": "stderr",
     "output_type": "stream",
     "text": [
      "1 molecule converted\n",
      "normal termination of xtb\n",
      "Note: The following floating-point exceptions are signalling: IEEE_DENORMAL\n"
     ]
    },
    {
     "name": "stdout",
     "output_type": "stream",
     "text": [
      "-----On salt #50-----\n",
      "[NH3+]CCOC1=C(C=C2)C3=C(C=C1)C=CC4=CC=CC2=C43.[Cl-]\n",
      "-----Generating Initial XYZ Structure for [NH3+]CCOC1=C(C=C2)C3=C(C=C1)C=CC4=CC=CC2=C43.[Cl-]-----\n",
      "\n",
      "-----Optimizing Initial XYZ Structure with xTB-----\n",
      "\tSMILES: [NH3+]CCOC1=C(C=C2)C3=C(C=C1)C=CC4=CC=CC2=C43.[Cl-]\n",
      "\tCHARGE: 0\n",
      "\tUHF: 0\n",
      "\n"
     ]
    },
    {
     "name": "stderr",
     "output_type": "stream",
     "text": [
      "1 molecule converted\n"
     ]
    },
    {
     "name": "stdout",
     "output_type": "stream",
     "text": [
      "-----CREST Conformer Generation-----\n",
      "\n"
     ]
    },
    {
     "name": "stderr",
     "output_type": "stream",
     "text": [
      "normal termination of xtb\n",
      "Note: The following floating-point exceptions are signalling: IEEE_UNDERFLOW_FLAG IEEE_DENORMAL\n"
     ]
    },
    {
     "name": "stdout",
     "output_type": "stream",
     "text": [
      "-----Generating Initial XYZ Structure for [NH3+]CCOC1=C(C=C2)C3=C(C=C1)C=CC4=CC=CC2=C43-----\n",
      "\n",
      "-----Optimizing Initial XYZ Structure with xTB-----\n",
      "\tSMILES: [NH3+]CCOC1=C(C=C2)C3=C(C=C1)C=CC4=CC=CC2=C43\n",
      "\tCHARGE: 1\n",
      "\tUHF: 0\n",
      "\n"
     ]
    },
    {
     "name": "stderr",
     "output_type": "stream",
     "text": [
      "1 molecule converted\n"
     ]
    },
    {
     "name": "stdout",
     "output_type": "stream",
     "text": [
      "-----CREST Conformer Generation-----\n",
      "\n"
     ]
    },
    {
     "name": "stderr",
     "output_type": "stream",
     "text": [
      "normal termination of xtb\n",
      "Note: The following floating-point exceptions are signalling: IEEE_UNDERFLOW_FLAG IEEE_DENORMAL\n"
     ]
    },
    {
     "name": "stdout",
     "output_type": "stream",
     "text": [
      "-----On salt #51-----\n",
      "[NH3+]CCOC1=CC=C(C2=C3C=CC=C21)C4=CC=CC5=CC=CC3=C54.[Cl-]\n",
      "-----Generating Initial XYZ Structure for [NH3+]CCOC1=CC=C(C2=C3C=CC=C21)C4=CC=CC5=CC=CC3=C54.[Cl-]-----\n",
      "\n",
      "-----Optimizing Initial XYZ Structure with xTB-----\n",
      "\tSMILES: [NH3+]CCOC1=CC=C(C2=C3C=CC=C21)C4=CC=CC5=CC=CC3=C54.[Cl-]\n",
      "\tCHARGE: 0\n",
      "\tUHF: 0\n",
      "\n"
     ]
    },
    {
     "name": "stderr",
     "output_type": "stream",
     "text": [
      "1 molecule converted\n"
     ]
    },
    {
     "name": "stdout",
     "output_type": "stream",
     "text": [
      "-----CREST Conformer Generation-----\n",
      "\n"
     ]
    },
    {
     "name": "stderr",
     "output_type": "stream",
     "text": [
      "normal termination of xtb\n",
      "Note: The following floating-point exceptions are signalling: IEEE_UNDERFLOW_FLAG IEEE_DENORMAL\n"
     ]
    },
    {
     "name": "stdout",
     "output_type": "stream",
     "text": [
      "-----Generating Initial XYZ Structure for [NH3+]CCOC1=CC=C(C2=C3C=CC=C21)C4=CC=CC5=CC=CC3=C54-----\n",
      "\n",
      "-----Optimizing Initial XYZ Structure with xTB-----\n",
      "\tSMILES: [NH3+]CCOC1=CC=C(C2=C3C=CC=C21)C4=CC=CC5=CC=CC3=C54\n",
      "\tCHARGE: 1\n",
      "\tUHF: 0\n",
      "\n"
     ]
    },
    {
     "name": "stderr",
     "output_type": "stream",
     "text": [
      "1 molecule converted\n"
     ]
    },
    {
     "name": "stdout",
     "output_type": "stream",
     "text": [
      "-----CREST Conformer Generation-----\n",
      "\n"
     ]
    },
    {
     "name": "stderr",
     "output_type": "stream",
     "text": [
      "normal termination of xtb\n",
      "Note: The following floating-point exceptions are signalling: IEEE_UNDERFLOW_FLAG IEEE_DENORMAL\n"
     ]
    },
    {
     "name": "stdout",
     "output_type": "stream",
     "text": [
      "-----On salt #52-----\n",
      "[NH3+]CCOC1=CC=CC2=CC=CC=C21.[Cl-]\n",
      "-----Generating Initial XYZ Structure for [NH3+]CCOC1=CC=CC2=CC=CC=C21.[Cl-]-----\n",
      "\n",
      "-----Optimizing Initial XYZ Structure with xTB-----\n",
      "\tSMILES: [NH3+]CCOC1=CC=CC2=CC=CC=C21.[Cl-]\n",
      "\tCHARGE: 0\n",
      "\tUHF: 0\n",
      "\n"
     ]
    },
    {
     "name": "stderr",
     "output_type": "stream",
     "text": [
      "1 molecule converted\n"
     ]
    },
    {
     "name": "stdout",
     "output_type": "stream",
     "text": [
      "-----CREST Conformer Generation-----\n",
      "\n"
     ]
    },
    {
     "name": "stderr",
     "output_type": "stream",
     "text": [
      "normal termination of xtb\n",
      "Note: The following floating-point exceptions are signalling: IEEE_UNDERFLOW_FLAG IEEE_DENORMAL\n"
     ]
    },
    {
     "name": "stdout",
     "output_type": "stream",
     "text": [
      "-----Generating Initial XYZ Structure for [NH3+]CCOC1=CC=CC2=CC=CC=C21-----\n",
      "\n",
      "-----Optimizing Initial XYZ Structure with xTB-----\n",
      "\tSMILES: [NH3+]CCOC1=CC=CC2=CC=CC=C21\n",
      "\tCHARGE: 1\n",
      "\tUHF: 0\n",
      "\n"
     ]
    },
    {
     "name": "stderr",
     "output_type": "stream",
     "text": [
      "1 molecule converted\n"
     ]
    },
    {
     "name": "stdout",
     "output_type": "stream",
     "text": [
      "-----CREST Conformer Generation-----\n",
      "\n"
     ]
    },
    {
     "name": "stderr",
     "output_type": "stream",
     "text": [
      "normal termination of xtb\n",
      "Note: The following floating-point exceptions are signalling: IEEE_UNDERFLOW_FLAG IEEE_DENORMAL\n"
     ]
    },
    {
     "name": "stdout",
     "output_type": "stream",
     "text": [
      "-----On salt #53-----\n",
      "[NH3+]CCSC.[Cl-]\n",
      "-----Generating Initial XYZ Structure for [NH3+]CCSC.[Cl-]-----\n",
      "\n",
      "-----Optimizing Initial XYZ Structure with xTB-----\n",
      "\tSMILES: [NH3+]CCSC.[Cl-]\n",
      "\tCHARGE: 0\n",
      "\tUHF: 0\n",
      "\n"
     ]
    },
    {
     "name": "stderr",
     "output_type": "stream",
     "text": [
      "1 molecule converted\n"
     ]
    },
    {
     "name": "stdout",
     "output_type": "stream",
     "text": [
      "-----CREST Conformer Generation-----\n",
      "\n"
     ]
    },
    {
     "name": "stderr",
     "output_type": "stream",
     "text": [
      "normal termination of xtb\n",
      "Note: The following floating-point exceptions are signalling: IEEE_UNDERFLOW_FLAG IEEE_DENORMAL\n"
     ]
    },
    {
     "name": "stdout",
     "output_type": "stream",
     "text": [
      "-----Generating Initial XYZ Structure for [NH3+]CCSC-----\n",
      "\n",
      "-----Optimizing Initial XYZ Structure with xTB-----\n",
      "\tSMILES: [NH3+]CCSC\n",
      "\tCHARGE: 1\n",
      "\tUHF: 0\n",
      "\n",
      "-----CREST Conformer Generation-----\n",
      "\n"
     ]
    },
    {
     "name": "stderr",
     "output_type": "stream",
     "text": [
      "1 molecule converted\n",
      "normal termination of xtb\n",
      "Note: The following floating-point exceptions are signalling: IEEE_UNDERFLOW_FLAG IEEE_DENORMAL\n"
     ]
    },
    {
     "name": "stdout",
     "output_type": "stream",
     "text": [
      "-----On salt #54-----\n",
      "[NH3+][C@@H](C)C(C=C1)=CC2=C1C=CC=C2.[Cl-]\n",
      "-----Generating Initial XYZ Structure for [NH3+][C@@H](C)C(C=C1)=CC2=C1C=CC=C2.[Cl-]-----\n",
      "\n",
      "-----Optimizing Initial XYZ Structure with xTB-----\n",
      "\tSMILES: [NH3+][C@@H](C)C(C=C1)=CC2=C1C=CC=C2.[Cl-]\n",
      "\tCHARGE: 0\n",
      "\tUHF: 0\n",
      "\n"
     ]
    },
    {
     "name": "stderr",
     "output_type": "stream",
     "text": [
      "1 molecule converted\n"
     ]
    },
    {
     "name": "stdout",
     "output_type": "stream",
     "text": [
      "-----CREST Conformer Generation-----\n",
      "\n"
     ]
    },
    {
     "name": "stderr",
     "output_type": "stream",
     "text": [
      "normal termination of xtb\n",
      "Note: The following floating-point exceptions are signalling: IEEE_UNDERFLOW_FLAG IEEE_DENORMAL\n"
     ]
    },
    {
     "name": "stdout",
     "output_type": "stream",
     "text": [
      "-----Generating Initial XYZ Structure for [NH3+][C@@H](C)C(C=C1)=CC2=C1C=CC=C2-----\n",
      "\n",
      "-----Optimizing Initial XYZ Structure with xTB-----\n",
      "\tSMILES: [NH3+][C@@H](C)C(C=C1)=CC2=C1C=CC=C2\n",
      "\tCHARGE: 1\n",
      "\tUHF: 0\n",
      "\n"
     ]
    },
    {
     "name": "stderr",
     "output_type": "stream",
     "text": [
      "1 molecule converted\n"
     ]
    },
    {
     "name": "stdout",
     "output_type": "stream",
     "text": [
      "-----CREST Conformer Generation-----\n",
      "\n"
     ]
    },
    {
     "name": "stderr",
     "output_type": "stream",
     "text": [
      "normal termination of xtb\n",
      "Note: The following floating-point exceptions are signalling: IEEE_UNDERFLOW_FLAG IEEE_DENORMAL\n"
     ]
    },
    {
     "name": "stdout",
     "output_type": "stream",
     "text": [
      "-----On salt #55-----\n",
      "[NH3+][C@@H](C)C1=CC=CC=C1.[Cl-]\n",
      "-----Generating Initial XYZ Structure for [NH3+][C@@H](C)C1=CC=CC=C1.[Cl-]-----\n",
      "\n",
      "-----Optimizing Initial XYZ Structure with xTB-----\n",
      "\tSMILES: [NH3+][C@@H](C)C1=CC=CC=C1.[Cl-]\n",
      "\tCHARGE: 0\n",
      "\tUHF: 0\n",
      "\n"
     ]
    },
    {
     "name": "stderr",
     "output_type": "stream",
     "text": [
      "1 molecule converted\n"
     ]
    },
    {
     "name": "stdout",
     "output_type": "stream",
     "text": [
      "-----CREST Conformer Generation-----\n",
      "\n"
     ]
    },
    {
     "name": "stderr",
     "output_type": "stream",
     "text": [
      "normal termination of xtb\n",
      "Note: The following floating-point exceptions are signalling: IEEE_UNDERFLOW_FLAG IEEE_DENORMAL\n"
     ]
    },
    {
     "name": "stdout",
     "output_type": "stream",
     "text": [
      "-----Generating Initial XYZ Structure for [NH3+][C@@H](C)C1=CC=CC=C1-----\n",
      "\n",
      "-----Optimizing Initial XYZ Structure with xTB-----\n",
      "\tSMILES: [NH3+][C@@H](C)C1=CC=CC=C1\n",
      "\tCHARGE: 1\n",
      "\tUHF: 0\n",
      "\n",
      "-----CREST Conformer Generation-----\n",
      "\n"
     ]
    },
    {
     "name": "stderr",
     "output_type": "stream",
     "text": [
      "1 molecule converted\n",
      "normal termination of xtb\n",
      "Note: The following floating-point exceptions are signalling: IEEE_UNDERFLOW_FLAG IEEE_DENORMAL\n"
     ]
    },
    {
     "name": "stdout",
     "output_type": "stream",
     "text": [
      "-----On salt #56-----\n",
      "[NH3+][C@H](C)C(C=C1)=CC2=C1C=CC=C2.[Cl-]\n",
      "-----Generating Initial XYZ Structure for [NH3+][C@H](C)C(C=C1)=CC2=C1C=CC=C2.[Cl-]-----\n",
      "\n",
      "-----Optimizing Initial XYZ Structure with xTB-----\n",
      "\tSMILES: [NH3+][C@H](C)C(C=C1)=CC2=C1C=CC=C2.[Cl-]\n",
      "\tCHARGE: 0\n",
      "\tUHF: 0\n",
      "\n"
     ]
    },
    {
     "name": "stderr",
     "output_type": "stream",
     "text": [
      "1 molecule converted\n"
     ]
    },
    {
     "name": "stdout",
     "output_type": "stream",
     "text": [
      "-----CREST Conformer Generation-----\n",
      "\n"
     ]
    },
    {
     "name": "stderr",
     "output_type": "stream",
     "text": [
      "normal termination of xtb\n",
      "Note: The following floating-point exceptions are signalling: IEEE_UNDERFLOW_FLAG IEEE_DENORMAL\n"
     ]
    },
    {
     "name": "stdout",
     "output_type": "stream",
     "text": [
      "-----Generating Initial XYZ Structure for [NH3+][C@H](C)C(C=C1)=CC2=C1C=CC=C2-----\n",
      "\n",
      "-----Optimizing Initial XYZ Structure with xTB-----\n",
      "\tSMILES: [NH3+][C@H](C)C(C=C1)=CC2=C1C=CC=C2\n",
      "\tCHARGE: 1\n",
      "\tUHF: 0\n",
      "\n"
     ]
    },
    {
     "name": "stderr",
     "output_type": "stream",
     "text": [
      "1 molecule converted\n"
     ]
    },
    {
     "name": "stdout",
     "output_type": "stream",
     "text": [
      "-----CREST Conformer Generation-----\n",
      "\n"
     ]
    },
    {
     "name": "stderr",
     "output_type": "stream",
     "text": [
      "normal termination of xtb\n",
      "Note: The following floating-point exceptions are signalling: IEEE_UNDERFLOW_FLAG IEEE_DENORMAL\n"
     ]
    },
    {
     "name": "stdout",
     "output_type": "stream",
     "text": [
      "-----On salt #57-----\n",
      "[NH3+][C@H](C)C1=CC=CC=C1.[Cl-]\n",
      "-----Generating Initial XYZ Structure for [NH3+][C@H](C)C1=CC=CC=C1.[Cl-]-----\n",
      "\n",
      "-----Optimizing Initial XYZ Structure with xTB-----\n",
      "\tSMILES: [NH3+][C@H](C)C1=CC=CC=C1.[Cl-]\n",
      "\tCHARGE: 0\n",
      "\tUHF: 0\n",
      "\n"
     ]
    },
    {
     "name": "stderr",
     "output_type": "stream",
     "text": [
      "1 molecule converted\n"
     ]
    },
    {
     "name": "stdout",
     "output_type": "stream",
     "text": [
      "-----CREST Conformer Generation-----\n",
      "\n"
     ]
    },
    {
     "name": "stderr",
     "output_type": "stream",
     "text": [
      "normal termination of xtb\n",
      "Note: The following floating-point exceptions are signalling: IEEE_UNDERFLOW_FLAG IEEE_DENORMAL\n"
     ]
    },
    {
     "name": "stdout",
     "output_type": "stream",
     "text": [
      "-----Generating Initial XYZ Structure for [NH3+][C@H](C)C1=CC=CC=C1-----\n",
      "\n",
      "-----Optimizing Initial XYZ Structure with xTB-----\n",
      "\tSMILES: [NH3+][C@H](C)C1=CC=CC=C1\n",
      "\tCHARGE: 1\n",
      "\tUHF: 0\n",
      "\n",
      "-----CREST Conformer Generation-----\n",
      "\n"
     ]
    },
    {
     "name": "stderr",
     "output_type": "stream",
     "text": [
      "1 molecule converted\n",
      "normal termination of xtb\n",
      "Note: The following floating-point exceptions are signalling: IEEE_UNDERFLOW_FLAG IEEE_DENORMAL\n"
     ]
    }
   ],
   "source": [
    "run_crest_pipeline(\"cation_smiles.txt\", 128)"
   ]
  },
  {
   "cell_type": "code",
   "execution_count": 3,
   "metadata": {},
   "outputs": [
    {
     "name": "stdout",
     "output_type": "stream",
     "text": [
      "----- Salt #0 -----\n",
      "   Atoms: 16, rmsd: 0.5, energy: 3.0, with: 4, without: 1\n",
      "\tworking on salt_0/with_chlorine/CONFORMERS\n",
      "\tworking on salt_0/without_chlorine/CONFORMERS\n",
      "----- Salt #1 -----\n",
      "   Atoms: 23, rmsd: 0.5, energy: 3.0, with: 9, without: 3\n",
      "\tworking on salt_1/with_chlorine/CONFORMERS\n",
      "\tworking on salt_1/without_chlorine/CONFORMERS\n",
      "----- Salt #2 -----\n",
      "   Atoms: 16, rmsd: 0.5, energy: 3.0, with: 2, without: 1\n",
      "\tworking on salt_2/with_chlorine/CONFORMERS\n",
      "\tworking on salt_2/without_chlorine/CONFORMERS\n",
      "----- Salt #3 -----\n",
      "   Atoms: 13, rmsd: 0.5, energy: 3.0, with: 2, without: 1\n",
      "\tworking on salt_3/with_chlorine/CONFORMERS\n",
      "\tworking on salt_3/without_chlorine/CONFORMERS\n",
      "----- Salt #4 -----\n",
      "   Atoms: 16, rmsd: 0.5, energy: 3.0, with: 2, without: 1\n",
      "\tworking on salt_4/with_chlorine/CONFORMERS\n",
      "\tworking on salt_4/without_chlorine/CONFORMERS\n",
      "----- Salt #5 -----\n",
      "   Atoms: 19, rmsd: 0.5, energy: 3.0, with: 3, without: 1\n",
      "\tworking on salt_5/with_chlorine/CONFORMERS\n",
      "\tworking on salt_5/without_chlorine/CONFORMERS\n",
      "----- Salt #6 -----\n",
      "   Atoms: 22, rmsd: 0.5, energy: 3.0, with: 4, without: 2\n",
      "\tworking on salt_6/with_chlorine/CONFORMERS\n",
      "\tworking on salt_6/without_chlorine/CONFORMERS\n",
      "----- Salt #7 -----\n",
      "   Atoms: 18, rmsd: 0.5, energy: 3.0, with: 6, without: 2\n",
      "\tworking on salt_7/with_chlorine/CONFORMERS\n",
      "\tworking on salt_7/without_chlorine/CONFORMERS\n",
      "----- Salt #8 -----\n",
      "   Atoms: 25, rmsd: 0.5, energy: 3.0, with: 7, without: 1\n",
      "\tworking on salt_8/with_chlorine/CONFORMERS\n",
      "\tworking on salt_8/without_chlorine/CONFORMERS\n",
      "----- Salt #9 -----\n",
      "   Atoms: 12, rmsd: 0.5, energy: 3.0, with: 2, without: 1\n",
      "\tworking on salt_9/with_chlorine/CONFORMERS\n",
      "\tworking on salt_9/without_chlorine/CONFORMERS\n",
      "----- Salt #10 -----\n",
      "   Atoms: 23, rmsd: 0.5, energy: 3.0, with: 7, without: 1\n",
      "\tworking on salt_10/with_chlorine/CONFORMERS\n",
      "\tworking on salt_10/without_chlorine/CONFORMERS\n",
      "----- Salt #11 -----\n",
      "   Atoms: 19, rmsd: 0.5, energy: 3.0, with: 4, without: 1\n",
      "\tworking on salt_11/with_chlorine/CONFORMERS\n",
      "\tworking on salt_11/without_chlorine/CONFORMERS\n",
      "----- Salt #12 -----\n",
      "   Atoms: 16, rmsd: 0.5, energy: 3.0, with: 9, without: 2\n",
      "\tworking on salt_12/with_chlorine/CONFORMERS\n",
      "\tworking on salt_12/without_chlorine/CONFORMERS\n",
      "----- Salt #13 -----\n",
      "   Atoms: 28, rmsd: 0.5, energy: 3.0, with: 9, without: 8\n",
      "\tworking on salt_13/with_chlorine/CONFORMERS\n",
      "\tworking on salt_13/without_chlorine/CONFORMERS\n",
      "----- Salt #14 -----\n",
      "   Atoms: 25, rmsd: 0.5, energy: 3.0, with: 8, without: 3\n",
      "\tworking on salt_14/with_chlorine/CONFORMERS\n",
      "\tworking on salt_14/without_chlorine/CONFORMERS\n",
      "----- Salt #15 -----\n",
      "   Atoms: 14, rmsd: 0.5, energy: 3.0, with: 6, without: 2\n",
      "\tworking on salt_15/with_chlorine/CONFORMERS\n",
      "\tworking on salt_15/without_chlorine/CONFORMERS\n",
      "----- Salt #16 -----\n",
      "   Atoms: 13, rmsd: 0.5, energy: 3.0, with: 5, without: 2\n",
      "\tworking on salt_16/with_chlorine/CONFORMERS\n",
      "\tworking on salt_16/without_chlorine/CONFORMERS\n",
      "----- Salt #17 -----\n",
      "   Atoms: 34, rmsd: 0.5, energy: 3.0, with: 21, without: 2\n",
      "\tworking on salt_17/with_chlorine/CONFORMERS\n",
      "\tworking on salt_17/without_chlorine/CONFORMERS\n",
      "----- Salt #18 -----\n",
      "   Atoms: 15, rmsd: 0.5, energy: 3.0, with: 6, without: 2\n",
      "\tworking on salt_18/with_chlorine/CONFORMERS\n",
      "\tworking on salt_18/without_chlorine/CONFORMERS\n",
      "----- Salt #19 -----\n",
      "   Atoms: 22, rmsd: 0.5, energy: 3.0, with: 1, without: 4\n",
      "\tworking on salt_19/with_chlorine/CONFORMERS\n",
      "\tworking on salt_19/without_chlorine/CONFORMERS\n",
      "----- Salt #20 -----\n",
      "   Atoms: 28, rmsd: 0.5, energy: 3.0, with: 10, without: 4\n",
      "\tworking on salt_20/with_chlorine/CONFORMERS\n",
      "\tworking on salt_20/without_chlorine/CONFORMERS\n",
      "----- Salt #21 -----\n",
      "   Atoms: 36, rmsd: 0.5, energy: 3.0, with: 24, without: 5\n",
      "\tworking on salt_21/with_chlorine/CONFORMERS\n",
      "\tworking on salt_21/without_chlorine/CONFORMERS\n",
      "----- Salt #22 -----\n",
      "   Atoms: 36, rmsd: 0.5, energy: 3.0, with: 10, without: 2\n",
      "\tworking on salt_22/with_chlorine/CONFORMERS\n",
      "\tworking on salt_22/without_chlorine/CONFORMERS\n",
      "----- Salt #23 -----\n",
      "   Atoms: 22, rmsd: 0.5, energy: 3.0, with: 7, without: 3\n",
      "\tworking on salt_23/with_chlorine/CONFORMERS\n",
      "\tworking on salt_23/without_chlorine/CONFORMERS\n",
      "----- Salt #24 -----\n",
      "   Atoms: 48, rmsd: 1.0, energy: 1.5, with: 2, without: 2\n",
      "\tworking on salt_24/with_chlorine/CONFORMERS\n",
      "\tworking on salt_24/without_chlorine/CONFORMERS\n",
      "----- Salt #25 -----\n",
      "   Atoms: 50, rmsd: 1.0, energy: 1.5, with: 7, without: 4\n",
      "\tworking on salt_25/with_chlorine/CONFORMERS\n",
      "\tworking on salt_25/without_chlorine/CONFORMERS\n",
      "----- Salt #26 -----\n",
      "   Atoms: 46, rmsd: 1.0, energy: 1.5, with: 5, without: 2\n",
      "\tworking on salt_26/with_chlorine/CONFORMERS\n",
      "\tworking on salt_26/without_chlorine/CONFORMERS\n",
      "----- Salt #27 -----\n",
      "   Atoms: 40, rmsd: 1.0, energy: 1.5, with: 9, without: 4\n",
      "\tworking on salt_27/with_chlorine/CONFORMERS\n",
      "\tworking on salt_27/without_chlorine/CONFORMERS\n",
      "----- Salt #28 -----\n",
      "   Atoms: 26, rmsd: 1.0, energy: 1.5, with: 7, without: 2\n",
      "\tworking on salt_28/with_chlorine/CONFORMERS\n",
      "\tworking on salt_28/without_chlorine/CONFORMERS\n",
      "----- Salt #29 -----\n",
      "   Atoms: 22, rmsd: 0.5, energy: 3.0, with: 3, without: 2\n",
      "\tworking on salt_29/with_chlorine/CONFORMERS\n",
      "\tworking on salt_29/without_chlorine/CONFORMERS\n",
      "----- Salt #30 -----\n",
      "   Atoms: 22, rmsd: 0.5, energy: 3.0, with: 9, without: 3\n",
      "\tworking on salt_30/with_chlorine/CONFORMERS\n",
      "\tworking on salt_30/without_chlorine/CONFORMERS\n",
      "----- Salt #31 -----\n",
      "   Atoms: 26, rmsd: 0.5, energy: 3.0, with: 10, without: 5\n",
      "\tworking on salt_31/with_chlorine/CONFORMERS\n",
      "\tworking on salt_31/without_chlorine/CONFORMERS\n",
      "----- Salt #32 -----\n",
      "   Atoms: 22, rmsd: 0.5, energy: 3.0, with: 7, without: 2\n",
      "\tworking on salt_32/with_chlorine/CONFORMERS\n",
      "\tworking on salt_32/without_chlorine/CONFORMERS\n",
      "----- Salt #33 -----\n",
      "   Atoms: 19, rmsd: 0.5, energy: 3.0, with: 17, without: 4\n",
      "\tworking on salt_33/with_chlorine/CONFORMERS\n",
      "\tworking on salt_33/without_chlorine/CONFORMERS\n",
      "----- Salt #34 -----\n",
      "   Atoms: 26, rmsd: 0.5, energy: 3.0, with: 9, without: 3\n",
      "\tworking on salt_34/with_chlorine/CONFORMERS\n",
      "\tworking on salt_34/without_chlorine/CONFORMERS\n",
      "----- Salt #35 -----\n",
      "   Atoms: 28, rmsd: 0.5, energy: 3.0, with: 22, without: 7\n",
      "\tworking on salt_35/with_chlorine/CONFORMERS\n",
      "\tworking on salt_35/without_chlorine/CONFORMERS\n",
      "----- Salt #36 -----\n",
      "   Atoms: 16, rmsd: 0.5, energy: 3.0, with: 13, without: 3\n",
      "\tworking on salt_36/with_chlorine/CONFORMERS\n",
      "\tworking on salt_36/without_chlorine/CONFORMERS\n",
      "----- Salt #37 -----\n",
      "   Atoms: 18, rmsd: 0.5, energy: 3.0, with: 20, without: 2\n",
      "\tworking on salt_37/with_chlorine/CONFORMERS\n",
      "\tworking on salt_37/without_chlorine/CONFORMERS\n",
      "----- Salt #38 -----\n",
      "   Atoms: 18, rmsd: 0.5, energy: 3.0, with: 13, without: 6\n",
      "\tworking on salt_38/with_chlorine/CONFORMERS\n",
      "\tworking on salt_38/without_chlorine/CONFORMERS\n",
      "----- Salt #39 -----\n",
      "   Atoms: 25, rmsd: 0.5, energy: 3.0, with: 19, without: 7\n",
      "\tworking on salt_39/with_chlorine/CONFORMERS\n",
      "\tworking on salt_39/without_chlorine/CONFORMERS\n",
      "----- Salt #40 -----\n",
      "   Atoms: 18, rmsd: 0.5, energy: 3.0, with: 13, without: 8\n",
      "\tworking on salt_40/with_chlorine/CONFORMERS\n",
      "\tworking on salt_40/without_chlorine/CONFORMERS\n",
      "----- Salt #41 -----\n",
      "   Atoms: 21, rmsd: 1.0, energy: 1.5, with: 2, without: 1\n",
      "\tworking on salt_41/with_chlorine/CONFORMERS\n",
      "\tworking on salt_41/without_chlorine/CONFORMERS\n",
      "----- Salt #42 -----\n",
      "   Atoms: 21, rmsd: 0.5, energy: 3.0, with: 43, without: 14\n",
      "\tworking on salt_42/with_chlorine/CONFORMERS\n",
      "\tworking on salt_42/without_chlorine/CONFORMERS\n",
      "----- Salt #43 -----\n",
      "   Atoms: 24, rmsd: 1.0, energy: 1.5, with: 7, without: 3\n",
      "\tworking on salt_43/with_chlorine/CONFORMERS\n",
      "\tworking on salt_43/without_chlorine/CONFORMERS\n",
      "----- Salt #44 -----\n",
      "   Atoms: 30, rmsd: 1.0, energy: 1.5, with: 13, without: 6\n",
      "\tworking on salt_44/with_chlorine/CONFORMERS\n",
      "\tworking on salt_44/without_chlorine/CONFORMERS\n",
      "----- Salt #45 -----\n",
      "   Atoms: 42, rmsd: 1.0, energy: 1.5, with: 12, without: 8\n",
      "\tworking on salt_45/with_chlorine/CONFORMERS\n",
      "\tworking on salt_45/without_chlorine/CONFORMERS\n",
      "----- Salt #46 -----\n",
      "   Atoms: 18, rmsd: 0.5, energy: 3.0, with: 7, without: 10\n",
      "\tworking on salt_46/with_chlorine/CONFORMERS\n",
      "\tworking on salt_46/without_chlorine/CONFORMERS\n",
      "----- Salt #47 -----\n",
      "   Atoms: 40, rmsd: 1.0, energy: 1.5, with: 5, without: 1\n",
      "\tworking on salt_47/with_chlorine/CONFORMERS\n",
      "\tworking on salt_47/without_chlorine/CONFORMERS\n",
      "----- Salt #48 -----\n",
      "   Atoms: 19, rmsd: 0.5, energy: 3.0, with: 3, without: 4\n",
      "\tworking on salt_48/with_chlorine/CONFORMERS\n",
      "\tworking on salt_48/without_chlorine/CONFORMERS\n",
      "----- Salt #49 -----\n",
      "   Atoms: 12, rmsd: 0.5, energy: 3.0, with: 3, without: 2\n",
      "\tworking on salt_49/with_chlorine/CONFORMERS\n",
      "\tworking on salt_49/without_chlorine/CONFORMERS\n",
      "----- Salt #50 -----\n",
      "   Atoms: 37, rmsd: 0.5, energy: 3.0, with: 13, without: 3\n",
      "\tworking on salt_50/with_chlorine/CONFORMERS\n",
      "\tworking on salt_50/without_chlorine/CONFORMERS\n",
      "----- Salt #51 -----\n",
      "   Atoms: 43, rmsd: 0.5, energy: 3.0, with: 10, without: 2\n",
      "\tworking on salt_51/with_chlorine/CONFORMERS\n",
      "\tworking on salt_51/without_chlorine/CONFORMERS\n",
      "----- Salt #52 -----\n",
      "   Atoms: 29, rmsd: 0.5, energy: 3.0, with: 13, without: 4\n",
      "\tworking on salt_52/with_chlorine/CONFORMERS\n",
      "\tworking on salt_52/without_chlorine/CONFORMERS\n",
      "----- Salt #53 -----\n",
      "   Atoms: 16, rmsd: 0.5, energy: 3.0, with: 8, without: 2\n",
      "\tworking on salt_53/with_chlorine/CONFORMERS\n",
      "\tworking on salt_53/without_chlorine/CONFORMERS\n",
      "----- Salt #54 -----\n",
      "   Atoms: 28, rmsd: 0.5, energy: 3.0, with: 3, without: 1\n",
      "\tworking on salt_54/with_chlorine/CONFORMERS\n",
      "\tworking on salt_54/without_chlorine/CONFORMERS\n",
      "----- Salt #55 -----\n",
      "   Atoms: 22, rmsd: 0.5, energy: 3.0, with: 4, without: 2\n",
      "\tworking on salt_55/with_chlorine/CONFORMERS\n",
      "\tworking on salt_55/without_chlorine/CONFORMERS\n",
      "----- Salt #56 -----\n",
      "   Atoms: 28, rmsd: 0.5, energy: 3.0, with: 6, without: 2\n",
      "\tworking on salt_56/with_chlorine/CONFORMERS\n",
      "\tworking on salt_56/without_chlorine/CONFORMERS\n",
      "----- Salt #57 -----\n",
      "   Atoms: 22, rmsd: 0.5, energy: 3.0, with: 4, without: 2\n",
      "\tworking on salt_57/with_chlorine/CONFORMERS\n",
      "\tworking on salt_57/without_chlorine/CONFORMERS\n"
     ]
    }
   ],
   "source": [
    "conf_dict_with = {}\n",
    "desc_dict_with = {}\n",
    "conf_dict_without = {}\n",
    "desc_dict_without = {}\n",
    "total_with, total_without = 0, 0\n",
    "for i in list(range(58)):\n",
    "    print(f\"----- Salt #{i} -----\")\n",
    "    with_ce, without_ce, best_ce = make_best_ensemble(i)\n",
    "    n_atoms = with_ce.elements.shape[0]\n",
    "    if with_ce.n_conformers > 100 or without_ce.n_conformers > 100:\n",
    "        rmsd_thresh = 1.0\n",
    "        energy_thresh = 1.5\n",
    "    else:\n",
    "        rmsd_thresh = 0.5\n",
    "        energy_thresh = 3.0\n",
    "    with_ce = trim_conformers(with_ce, rmsd_thresh=rmsd_thresh, energy_thresh=energy_thresh)\n",
    "    conf_dict_with[i] = (with_ce, with_ce.n_conformers)\n",
    "    total_with += with_ce.n_conformers\n",
    "    without_ce = trim_conformers(without_ce, rmsd_thresh=rmsd_thresh, energy_thresh=energy_thresh)\n",
    "    conf_dict_without[i] = (without_ce, without_ce.n_conformers)\n",
    "    total_without += without_ce.n_conformers\n",
    "    print(f\"   Atoms: {n_atoms}, rmsd: {rmsd_thresh}, energy: {energy_thresh}, with: {with_ce.n_conformers}, without: {without_ce.n_conformers}\")\n",
    "    dump_conformers(with_ce, i, withh=True)\n",
    "    dump_conformers(without_ce, i, withh=False)\n",
    "    gen_hess(i, 64, withh=True)\n",
    "    gen_hess(i, 64, withh=False)\n",
    "    with_bw = with_ce.boltzmann_weights().T\n",
    "    without_bw = without_ce.boltzmann_weights().T\n",
    "    with_ensemble_desc = get_ensemble_descriptors(i, withh=True, dispersion=True, SASA=True, XTB=True, LFCs=\"N_H\")\n",
    "    without_ensemble_desc = get_ensemble_descriptors(i, withh=False, dispersion=True, SASA=True, XTB=True, LFCs=\"N_H\")\n",
    "    n_conformers, n_descriptors = len(list(with_ensemble_desc)), len(list(with_ensemble_desc[0].values()))\n",
    "    bw_desc_with = boltz_weight_desc(with_ensemble_desc, with_bw)\n",
    "    bw_desc_without = boltz_weight_desc(without_ensemble_desc, without_bw) \n",
    "    desc_dict_with[i] = bw_desc_with\n",
    "    desc_dict_without[i] = bw_desc_without\n",
    "def make_dfs(withh, without):\n",
    "    return pd.DataFrame.from_dict(withh, orient=\"index\"), pd.DataFrame.from_dict(without, orient=\"index\")\n",
    "with_df, without_df = make_dfs(desc_dict_with, desc_dict_without)\n",
    "with_df.to_csv(\"descriptors_with_chlorine.csv\", index=False)\n",
    "without_df.to_csv(\"descriptors_without_chlorine.csv\", index=False)"
   ]
  },
  {
   "cell_type": "code",
   "execution_count": 4,
   "metadata": {},
   "outputs": [],
   "source": [
    "def features():\n",
    "    # Some third dimensions\n",
    "    mol_wt = {}\n",
    "    aromatic = {}\n",
    "    bonds = {}\n",
    "    sulfur = {}\n",
    "    for salt in sorted(os.listdir(\"./\")):\n",
    "        if \"salt_\" in salt:\n",
    "            n = str(salt.split(\"_\")[1])\n",
    "            SMILES = open(f\"salt_{n}/with_chlorine/smiles.txt\", \"r\").readlines()[0].replace(\"\\n\", \"\").split()[0]\n",
    "            SMILES = SMILES.replace(\"[NH3]\", \"N\").replace(\"[Cl]\", \"Cl\")\n",
    "\n",
    "            mol = Chem.MolFromSmiles(SMILES, sanitize=True)\n",
    "            mol_wt[int(n)] = {\"mol_wt\": round(rdkit.Chem.Descriptors.MolWt(mol), 3)}\n",
    "            arom = 0\n",
    "            for atom in mol.GetAtoms():\n",
    "                arom += atom.GetIsAromatic()\n",
    "            dbonds = 0\n",
    "            for bond in mol.GetBonds():\n",
    "                btype = bond.GetBondType()\n",
    "                if btype.name in [\"DOUBLE\", \"AROMATIC\", \"TRIPLE\"]:\n",
    "                    dbonds += 1\n",
    "\n",
    "            aromatic[int(n)] = {\"aromatic\": arom}\n",
    "            bonds[int(n)] = {\"n_double_bonds\": dbonds}\n",
    "            sulfur[int(n)] = {\"sulfur\": mol.HasSubstructMatch(Chem.MolFromSmiles('S'))}\n",
    "\n",
    "    mol_wt = pd.DataFrame.from_dict(mol_wt, orient=\"index\")\n",
    "    aromatic = pd.DataFrame.from_dict(aromatic, orient=\"index\")\n",
    "    bonds = pd.DataFrame.from_dict(bonds, orient=\"index\")\n",
    "    sulfur = pd.DataFrame.from_dict(sulfur, orient=\"index\")\n",
    "    \n",
    "    return mol_wt, aromatic, bonds, sulfur"
   ]
  },
  {
   "cell_type": "code",
   "execution_count": 5,
   "metadata": {},
   "outputs": [],
   "source": [
    "mol_wt, aromatic, bonds, sulfur = features()"
   ]
  },
  {
   "cell_type": "code",
   "execution_count": 6,
   "metadata": {},
   "outputs": [],
   "source": [
    "# generate single figure with certain size\n",
    "def gen_single_figure(size=(20, 9)):\n",
    "\n",
    "    fig, ax = plt.subplots(figsize=size)\n",
    "    ax.grid(True, linewidth=1.0, color='0.95')\n",
    "    ax.spines['right'].set_visible(False)\n",
    "    ax.spines['top'].set_visible(False)\n",
    "    ax.set_axisbelow(True)\n",
    "    for axis in ['bottom', 'left']:\n",
    "        ax.spines[axis].set_linewidth(2.5)\n",
    "    for tick in ax.get_yticklabels():\n",
    "        tick.set_fontname(\"Arial\")\n",
    "        tick.set_fontsize(12)\n",
    "    for tick in ax.get_xticklabels():\n",
    "        tick.set_fontname(\"Arial\")\n",
    "        tick.set_fontsize(12)\n",
    "    \n",
    "    return fig, ax"
   ]
  },
  {
   "cell_type": "code",
   "execution_count": 8,
   "metadata": {},
   "outputs": [
    {
     "name": "stderr",
     "output_type": "stream",
     "text": [
      "findfont: Font family ['Arial'] not found. Falling back to DejaVu Sans.\n",
      "findfont: Font family ['Arial'] not found. Falling back to DejaVu Sans.\n"
     ]
    },
    {
     "name": "stdout",
     "output_type": "stream",
     "text": [
      "['disp_area', 'disp_volume', 'disp_p_int', 'disp_p_max', 'disp_p_min', 'sasa_area', 'sasa_volume', 'ip', 'ea', 'LFCs_N_H_0', 'LFqCs_N_H_0', 'LFCs_N_H_1', 'LFqCs_N_H_1', 'LFCs_N_H_2', 'LFqCs_N_H_2']\n"
     ]
    },
    {
     "data": {
      "image/png": "[encoded data removed]",
      "text/plain": [
       "<Figure size 1000x800 with 2 Axes>"
      ]
     },
     "metadata": {},
     "output_type": "display_data"
    }
   ],
   "source": [
    "# define pandas DataFrame with Descriptor representation salts\n",
    "df = pd.read_csv(\"descriptors_with_chlorine.csv\")\n",
    "columns = list(df.columns)\n",
    "print(columns)\n",
    "# use a StandardScaler to transform the Descriptors for PCA\n",
    "df = StandardScaler().fit_transform(df)\n",
    "# fit PCA\n",
    "pca = PCA(n_components=2)\n",
    "pcas = pca.fit_transform(df)\n",
    "pca_df = pd.DataFrame(pcas, columns = [\"PC 1\", \"PC 2\"])\n",
    "\n",
    "# generate figure\n",
    "fd_medium = {\"name\": \"Arial\", \"size\": 12}\n",
    "fd_large = {\"name\": \"Arial\", \"size\": 14}\n",
    "fig, ax = gen_single_figure(size = (10, 8))\n",
    "# get top two features for each PC\n",
    "pc_1_ifs = [columns[i] for i in abs(pca.components_).argsort()[0][-2:]]\n",
    "pc_2_ifs = [columns[i] for i in abs(pca.components_).argsort()[1][-2:]]\n",
    "# plot pcs\n",
    "plt.scatter(pca_df[\"PC 1\"], pca_df[\"PC 2\"], c = aromatic.values.flatten().tolist(), cmap=\"plasma\", s = 125)\n",
    "plt.colorbar(label=\"number of aromatic atoms\", orientation=\"vertical\", extend=\"both\")\n",
    "plt.title(f\"Two Component PCA for Amine Salts Descriptors\", fontdict=fd_large)\n",
    "plt.xlabel(f\"PC 1 - {', '.join(pc_1_ifs)}\", fontdict=fd_medium)\n",
    "plt.ylabel(f\"PC 2 - {', '.join(pc_2_ifs)}\", fontdict=fd_medium)\n",
    "\n",
    "plt.tight_layout()\n",
    "fig.savefig(\"PCA.png\")"
   ]
  },
  {
   "cell_type": "code",
   "execution_count": null,
   "metadata": {},
   "outputs": [],
   "source": []
  }
 ],
 "metadata": {
  "kernelspec": {
   "display_name": "dmref",
   "language": "python",
   "name": "python3"
  },
  "language_info": {
   "codemirror_mode": {
    "name": "ipython",
    "version": 3
   },
   "file_extension": ".py",
   "mimetype": "text/x-python",
   "name": "python",
   "nbconvert_exporter": "python",
   "pygments_lexer": "ipython3",
   "version": "3.10.9"
  },
  "orig_nbformat": 4,
  "vscode": {
   "interpreter": {
    "hash": "dc4239f059cbc0b78e6080e0f11898111cff0a1f9679ec4a2e429d5335fe2d51"
   }
  }
 },
 "nbformat": 4,
 "nbformat_minor": 2
}
